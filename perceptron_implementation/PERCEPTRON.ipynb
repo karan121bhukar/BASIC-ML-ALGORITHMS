{
 "cells": [
  {
   "cell_type": "code",
   "execution_count": 1,
   "metadata": {},
   "outputs": [],
   "source": [
    "import sklearn.datasets\n",
    "import numpy as np\n",
    "import pandas as pd\n",
    "from sklearn.model_selection import train_test_split\n",
    "from sklearn.metrics import accuracy_score\n",
    "import matplotlib.pyplot as plt"
   ]
  },
  {
   "cell_type": "markdown",
   "metadata": {},
   "source": [
    "importing data set from sklearn.datasets about breast-cancer"
   ]
  },
  {
   "cell_type": "code",
   "execution_count": 136,
   "metadata": {},
   "outputs": [],
   "source": [
    "breast_cancer = sklearn.datasets.load_breast_cancer()"
   ]
  },
  {
   "cell_type": "markdown",
   "metadata": {},
   "source": [
    "X IS CONTAINING NUMPY ARRAY CONTAINING FEATURES OF BREAST CANCER ANF Y CONTAINS THE OUTPUT WEATHER \n",
    "TISSUE CONTAINS THE CANCER !"
   ]
  },
  {
   "cell_type": "code",
   "execution_count": 135,
   "metadata": {
    "collapsed": true
   },
   "outputs": [],
   "source": [
    "x = breast_cancer.data\n",
    "y = breast_cancer.target"
   ]
  },
  {
   "cell_type": "markdown",
   "metadata": {},
   "source": [
    "MAKING A DATA FRAME CONTAING X "
   ]
  },
  {
   "cell_type": "code",
   "execution_count": 4,
   "metadata": {},
   "outputs": [],
   "source": [
    "data = pd.DataFrame(x,columns = breast_cancer.feature_names)\n"
   ]
  },
  {
   "cell_type": "code",
   "execution_count": 5,
   "metadata": {},
   "outputs": [],
   "source": [
    "data['class'] = breast_cancer.target"
   ]
  },
  {
   "cell_type": "code",
   "execution_count": 138,
   "metadata": {},
   "outputs": [],
   "source": [
    "x = data.drop('class',axis = 1)\n",
    "x.insert(0,'X_0',1)\n",
    "y = data['class'] "
   ]
  },
  {
   "cell_type": "markdown",
   "metadata": {},
   "source": [
    "SPLITING THE DATAFRAMES X AND Y IN TRAINING AND TEST DATAFRAME RANDOM_STATE = 1 ENSURES THAT DATA IS RANDOMIZED IN A MANNER THAT VARIANCE IS MIN AND STRATIFY ENSURES THAT DATA IS HAVING ALMOST SAME SONFIGURATION IN X AND TRAIN AND TEST SET"
   ]
  },
  {
   "cell_type": "code",
   "execution_count": 12,
   "metadata": {},
   "outputs": [],
   "source": [
    "x_train , x_test , y_train , y_test = train_test_split(x,y,test_size=0.1,stratify = y, random_state = 1)"
   ]
  },
  {
   "cell_type": "code",
   "execution_count": 139,
   "metadata": {
    "collapsed": true
   },
   "outputs": [],
   "source": [
    "class Perceptron :\n",
    "    \n",
    "    def __init__(self):\n",
    "        self.w = None\n",
    "    \n",
    "    def model(self,x):\n",
    "        \n",
    "        return 1 if np.dot(self.w,x) >= 0 else 0\n",
    "    \n",
    "    def predict(self,X):\n",
    "        Y=[]\n",
    "        \n",
    "        for x in X:\n",
    "           Y.append(self.model(x))\n",
    "        \n",
    "        return np.array(Y)\n",
    "    \n",
    "    def fit(self,X,Y,epochs,l_rate):\n",
    "        self.w = np.ones(X.shape[1])\n",
    "        accuracy = {}\n",
    "        max_accuracy=0\n",
    "        for i in range(epochs):            \n",
    "            for x,y in zip(X,Y) :\n",
    "                \n",
    "                y_predicted = self.model(x)    \n",
    "                error = y - y_predicted\n",
    "                self.w = self.w + error * l_rate * x\n",
    "                \n",
    "            accuracy[i] = accuracy_score(self.predict(X),Y)\n",
    "\n",
    "            if accuracy[i]>=max_accuracy:\n",
    "                max_accuracy = accuracy[i]\n",
    "                checkpoint_w = self.w\n",
    "                \n",
    "        plt.plot(accuracy.values())   \n",
    "        plt.ylim([0,1])\n",
    "        print(max_accuracy)\n",
    "        plt.show()               "
   ]
  },
  {
   "cell_type": "code",
   "execution_count": 132,
   "metadata": {},
   "outputs": [
    {
     "name": "stdout",
     "output_type": "stream",
     "text": [
      "0.935546875\n"
     ]
    },
    {
     "data": {
      "image/png": "[encoded data removed]",
      "text/plain": [
       "<Figure size 432x288 with 1 Axes>"
      ]
     },
     "metadata": {},
     "output_type": "display_data"
    }
   ],
   "source": [
    "perceptron=Perceptron()\n",
    "\n",
    "perceptron.fit(x_train.values,y_train.values,900,.35) "
   ]
  },
  {
   "cell_type": "code",
   "execution_count": 133,
   "metadata": {},
   "outputs": [],
   "source": [
    "y_pred = perceptron.predict(x_test.values)"
   ]
  },
  {
   "cell_type": "code",
   "execution_count": 134,
   "metadata": {},
   "outputs": [
    {
     "name": "stdout",
     "output_type": "stream",
     "text": [
      "0.9473684210526315\n"
     ]
    }
   ],
   "source": [
    "print(accuracy_score(y_pred,y_test))"
   ]
  },
  {
   "cell_type": "code",
   "execution_count": null,
   "metadata": {
    "collapsed": true
   },
   "outputs": [],
   "source": []
  }
 ],
 "metadata": {
  "kernelspec": {
   "display_name": "Python 3",
   "language": "python",
   "name": "python3"
  },
  "language_info": {
   "codemirror_mode": {
    "name": "ipython",
    "version": 3
   },
   "file_extension": ".py",
   "mimetype": "text/x-python",
   "name": "python",
   "nbconvert_exporter": "python",
   "pygments_lexer": "ipython3",
   "version": "3.6.8"
  }
 },
 "nbformat": 4,
 "nbformat_minor": 2
}
