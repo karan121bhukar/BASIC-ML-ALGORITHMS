{
 "cells": [
  {
   "cell_type": "code",
   "execution_count": 37,
   "metadata": {
    "collapsed": true
   },
   "outputs": [],
   "source": [
    "import pandas as pd\n",
    "import numpy as np\n",
    "import matplotlib.pyplot as plt\n",
    "from sklearn import preprocessing # included so that data set can be normalized easily "
   ]
  },
  {
   "cell_type": "code",
   "execution_count": 38,
   "metadata": {},
   "outputs": [],
   "source": [
    "df=pd.read_csv('https://archive.ics.uci.edu/ml/machine-learning-databases/00267/data_banknote_authentication.txt',header=None)\n",
    "\n",
    "df.insert(0,'Xo',-1) # ADDING BIAS IN DATA SET "
   ]
  },
  {
   "cell_type": "markdown",
   "metadata": {},
   "source": [
    "THE FOLLOWING SET CONTAINS THE NORMALIZATION CODE FOR THE DATA SET \n",
    "1) FOR EVERY COLUMN IT CACULATE MIN AND MAX VALUE AND NORMALIZE THE THE VALUES BY FORMULA:-\n",
    "\n",
    "    X = (X - MIN) / (MAX - MIN)\n",
    "    BY DOING THIS ALL VALUES COMES IN RANGE [0,1]\n",
    "    "
   ]
  },
  {
   "cell_type": "code",
   "execution_count": null,
   "metadata": {
    "collapsed": true
   },
   "outputs": [],
   "source": [
    "y=df.values\n",
    "min_max=preprocessing.MinMaxScaler()\n",
    "x_scaled = min_max.fit_transform(y)\n",
    "df=pd.DataFrame(x_scaled)"
   ]
  },
  {
   "cell_type": "code",
   "execution_count": 47,
   "metadata": {
    "scrolled": false
   },
   "outputs": [
    {
     "data": {
      "text/plain": [
       "pandas.core.frame.DataFrame"
      ]
     },
     "execution_count": 47,
     "metadata": {},
     "output_type": "execute_result"
    }
   ],
   "source": [
    "x_train=df.sample(frac=.5)"
   ]
  },
  {
   "cell_type": "code",
   "execution_count": 48,
   "metadata": {},
   "outputs": [],
   "source": [
    "df_test=df.drop(x_train.index)"
   ]
  },
  {
   "cell_type": "code",
   "execution_count": 49,
   "metadata": {},
   "outputs": [],
   "source": [
    "df_test=df_test.reset_index()\n",
    "x_train=x_train.reset_index()"
   ]
  },
  {
   "cell_type": "code",
   "execution_count": 50,
   "metadata": {
    "collapsed": true
   },
   "outputs": [],
   "source": [
    "x_train=x_train.drop(\"index\",axis=1)\n",
    "df_test=df_test.drop(\"index\",axis=1)"
   ]
  },
  {
   "cell_type": "code",
   "execution_count": 51,
   "metadata": {
    "collapsed": true
   },
   "outputs": [],
   "source": [
    "def prediction(row,weight):\n",
    "    y=np.dot(row,weight)\n",
    "    \n",
    "    if y>=0:\n",
    "        return 1\n",
    "    else :\n",
    "        return 0"
   ]
  },
  {
   "cell_type": "code",
   "execution_count": 52,
   "metadata": {},
   "outputs": [
    {
     "name": "stdout",
     "output_type": "stream",
     "text": [
      "[-2.6        -2.06536064 -2.01850758 -2.06120593  0.06478155]\n"
     ]
    }
   ],
   "source": [
    "def weight_train(data,lrate,epoch):\n",
    "    weight=np.zeros(len(data.T)-1)\n",
    "    \n",
    "    for iteration in range(epoch):\n",
    "        \n",
    "        for i in range(len(data)):\n",
    "            \n",
    "            predicted=prediction(data.iloc[i,0:len(data.T)-1],weight)\n",
    "            error=data.iloc[i,len(data.T)-1]-predicted\n",
    "            \n",
    "            for j in range(len(data.T)-1):\n",
    "                weight[j] += lrate*error*data.iloc[i,j]\n",
    "    return weight\n",
    "\n",
    "lrate=.1\n",
    "epoch=100\n",
    "weight=weight_train(x_train,lrate,epoch)\n",
    "print(weight)"
   ]
  },
  {
   "cell_type": "code",
   "execution_count": 53,
   "metadata": {
    "collapsed": true
   },
   "outputs": [],
   "source": [
    "def test(data,weights):\n",
    "    correct=0\n",
    "    \n",
    "    for i in range(len(data)):\n",
    "        predicted = prediction(data.iloc[i,0:len(data.T)-1],weights)\n",
    "        if data.iloc[i,len(data.T)-1]==predicted :\n",
    "            correct=correct + 1\n",
    "\n",
    "    accuracy=(correct)/(len(data))*100\n",
    "    return accuracy"
   ]
  },
  {
   "cell_type": "code",
   "execution_count": 54,
   "metadata": {
    "scrolled": true
   },
   "outputs": [
    {
     "name": "stdout",
     "output_type": "stream",
     "text": [
      "97.81341107871721\n"
     ]
    }
   ],
   "source": [
    "acu=test(df_test,weight)\n",
    "print(acu)"
   ]
  }
 ],
 "metadata": {
  "kernelspec": {
   "display_name": "Python 3",
   "language": "python",
   "name": "python3"
  },
  "language_info": {
   "codemirror_mode": {
    "name": "ipython",
    "version": 3
   },
   "file_extension": ".py",
   "mimetype": "text/x-python",
   "name": "python",
   "nbconvert_exporter": "python",
   "pygments_lexer": "ipython3",
   "version": "3.6.8"
  }
 },
 "nbformat": 4,
 "nbformat_minor": 2
}
